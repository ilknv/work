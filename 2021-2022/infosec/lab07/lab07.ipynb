{
 "cells": [
  {
   "cell_type": "code",
   "execution_count": 15,
   "id": "6ba15799-dbc7-4ffb-af7a-a12a6a8daf96",
   "metadata": {},
   "outputs": [],
   "source": [
    "import random\n",
    "import string\n",
    "import numpy as np"
   ]
  },
  {
   "cell_type": "code",
   "execution_count": 16,
   "id": "15fbf6ec-2e20-4c80-a721-b35c37a3be94",
   "metadata": {},
   "outputs": [],
   "source": [
    "sms = 'С Новым Годом, друзья!'"
   ]
  },
  {
   "cell_type": "code",
   "execution_count": 17,
   "id": "a9e47c6f-3d3e-4c81-a843-6740e0a9ec1c",
   "metadata": {},
   "outputs": [],
   "source": [
    "def f1(n): #генерация ключа\n",
    "    k = []\n",
    "    for i in range(n):\n",
    "        k.append(random.choice(string.ascii_letters + string.digits))\n",
    "    return k"
   ]
  },
  {
   "cell_type": "code",
   "execution_count": 18,
   "id": "04ad27fa-40e5-4ebd-9811-d0d6b90e33ac",
   "metadata": {},
   "outputs": [
    {
     "data": {
      "text/plain": [
       "array(['8', 'c', 'T', 'A', 'w', 'C', 'j', 'l', '8', 'z', 'a', 'H', 'E',\n",
       "       'J', 'V', '2', '0', 'V', 'r', 'e', 'm', 'A'], dtype='<U1')"
      ]
     },
     "execution_count": 18,
     "metadata": {},
     "output_type": "execute_result"
    }
   ],
   "source": [
    "key = f1(len(sms))\n",
    "np.array(key)"
   ]
  },
  {
   "cell_type": "code",
   "execution_count": 22,
   "id": "51a981ac-d65a-41c6-b35a-c84c8597e71b",
   "metadata": {},
   "outputs": [],
   "source": [
    "def f2(t): #перевод в 16 строку\n",
    "    a = []\n",
    "    for i in t:\n",
    "        a.append(hex(ord(i))[2:])\n",
    "    return a"
   ]
  },
  {
   "cell_type": "code",
   "execution_count": 23,
   "id": "6d82738a-edb9-4052-8130-ea0db5fc5089",
   "metadata": {},
   "outputs": [
    {
     "data": {
      "text/plain": [
       "array(['38', '63', '54', '41', '77', '43', '6a', '6c', '38', '7a', '61',\n",
       "       '48', '45', '4a', '56', '32', '30', '56', '72', '65', '6d', '41'],\n",
       "      dtype='<U2')"
      ]
     },
     "execution_count": 23,
     "metadata": {},
     "output_type": "execute_result"
    }
   ],
   "source": [
    "key16 = f2(key)\n",
    "np.array(key16)"
   ]
  },
  {
   "cell_type": "code",
   "execution_count": 25,
   "id": "586ceb17-f77d-433b-8ac6-a83bedc25f28",
   "metadata": {},
   "outputs": [],
   "source": [
    "def f3(t,k): #XOR\n",
    "    a = []\n",
    "    for (i,j) in zip(t,k):\n",
    "        a.append(chr(i^j))\n",
    "    return a"
   ]
  },
  {
   "cell_type": "code",
   "execution_count": 27,
   "id": "50e48534-1299-4e14-acf8-dd484284e48c",
   "metadata": {},
   "outputs": [],
   "source": [
    "def for16(a): #превращаем символы в числа\n",
    "    f = []\n",
    "    for i in a:\n",
    "        f.append(ord(i))\n",
    "    return f"
   ]
  },
  {
   "cell_type": "code",
   "execution_count": 28,
   "id": "03befc96-6ff7-4d2c-8dae-a54ae7fe3fa5",
   "metadata": {},
   "outputs": [
    {
     "data": {
      "text/plain": [
       "array(['Й', 'C', 'щ', 'ѿ', 'х', 'Ј', 'і', 'L', 'Ы', 'ф', 'ѕ', 'Ѷ', 'ѹ',\n",
       "       'f', 'v', 'І', 'Ѱ', 'Е', 'х', 'Щ', 'Т', '`'], dtype='<U1')"
      ]
     },
     "execution_count": 28,
     "metadata": {},
     "output_type": "execute_result"
    }
   ],
   "source": [
    "cipher = f3(for16(sms), for16(key))\n",
    "np.array(cipher)"
   ]
  },
  {
   "cell_type": "code",
   "execution_count": 29,
   "id": "9d44548a-1310-426c-bac3-114ba6926da1",
   "metadata": {},
   "outputs": [
    {
     "data": {
      "text/plain": [
       "array(['419', '43', '449', '47f', '445', '408', '456', '4c', '42b', '444',\n",
       "       '455', '476', '479', '66', '76', '406', '470', '415', '445', '429',\n",
       "       '422', '60'], dtype='<U3')"
      ]
     },
     "execution_count": 29,
     "metadata": {},
     "output_type": "execute_result"
    }
   ],
   "source": [
    "cipher16 = f2(cipher)\n",
    "np.array(cipher16)"
   ]
  },
  {
   "cell_type": "code",
   "execution_count": 32,
   "id": "b1503908-d9c5-4a59-9a0f-78dc0ebcaae1",
   "metadata": {},
   "outputs": [
    {
     "data": {
      "text/plain": [
       "array(['С', ' ', 'Н', 'о', 'в', 'ы', 'м', ' ', 'Г', 'о', 'д', 'о', 'м',\n",
       "       ',', ' ', 'д', 'р', 'у', 'з', 'ь', 'я', '!'], dtype='<U1')"
      ]
     },
     "execution_count": 32,
     "metadata": {},
     "output_type": "execute_result"
    }
   ],
   "source": [
    "decoding = f3(for16(cipher), for16(key))\n",
    "np.array(decoding)"
   ]
  },
  {
   "cell_type": "code",
   "execution_count": 36,
   "id": "ba034519-40c3-402f-8542-24abbd16ceb8",
   "metadata": {},
   "outputs": [
    {
     "name": "stdout",
     "output_type": "stream",
     "text": [
      "Открытый текст:  С Новым Годом, друзья!\n",
      "Ключ:  8cTAwCjl8zaHEJV20VremA\n",
      "Ключ в 16:  38 63 54 41 77 43 6a 6c 38 7a 61 48 45 4a 56 32 30 56 72 65 6d 41\n",
      "Шифр:  ЙCщѿхЈіLЫфѕѶѹfvІѰЕхЩТ`\n",
      "Шифр в 16:  419 43 449 47f 445 408 456 4c 42b 444 455 476 479 66 76 406 470 415 445 429 422 60\n",
      "Расшифрованный текст:  С Новым Годом, друзья!\n"
     ]
    }
   ],
   "source": [
    "print(\"Открытый текст: \", sms)\n",
    "print(\"Ключ: \", ''.join(key))\n",
    "print(\"Ключ в 16: \", ' '.join(key16))\n",
    "print(\"Шифр: \", ''.join(cipher))\n",
    "print(\"Шифр в 16: \", ' '.join(cipher16))\n",
    "print(\"Расшифрованный текст: \", ''.join(decoding))"
   ]
  },
  {
   "cell_type": "code",
   "execution_count": 39,
   "id": "db1627b5-bad8-47ac-9db8-3a6e2df9d571",
   "metadata": {},
   "outputs": [
    {
     "data": {
      "text/plain": [
       "array(['8', 'c', 'T', 'A', 'w', 'C', 'j', 'l', '8', 'z', 'a', 'H', 'E',\n",
       "       'J', 'V', '2', '0', 'V', 'r', 'e', 'm', 'A'], dtype='<U1')"
      ]
     },
     "execution_count": 39,
     "metadata": {},
     "output_type": "execute_result"
    }
   ],
   "source": [
    "new_key = f3(for16(sms), for16(cipher))\n",
    "np.array(new_key)"
   ]
  },
  {
   "cell_type": "code",
   "execution_count": 40,
   "id": "7b4a16c7-a390-427d-81d7-d427352be15d",
   "metadata": {},
   "outputs": [
    {
     "data": {
      "text/plain": [
       "array(['С', ' ', 'Н', 'о', 'в', 'ы', 'м', ' ', 'Г', 'о', 'д', 'о', 'м',\n",
       "       ',', ' ', 'д', 'р', 'у', 'з', 'ь', 'я', '!'], dtype='<U1')"
      ]
     },
     "execution_count": 40,
     "metadata": {},
     "output_type": "execute_result"
    }
   ],
   "source": [
    "new_decoding = f3(for16(new_key), for16(cipher))\n",
    "np.array(new_decoding)"
   ]
  },
  {
   "cell_type": "code",
   "execution_count": 42,
   "id": "7b39544d-cca7-4bdb-bbb6-5951c344ddc8",
   "metadata": {},
   "outputs": [
    {
     "name": "stdout",
     "output_type": "stream",
     "text": [
      "Открытый текст:  С Новым Годом, друзья!\n",
      "Новый ключ:  8cTAwCjl8zaHEJV20VremA\n",
      "Шифр:  ЙCщѿхЈіLЫфѕѶѹfvІѰЕхЩТ`\n",
      "Расшифрованный текст:  С Новым Годом, друзья!\n"
     ]
    }
   ],
   "source": [
    "print(\"Открытый текст: \", sms)\n",
    "print(\"Новый ключ: \", ''.join(new_key))\n",
    "print(\"Шифр: \", ''.join(cipher))\n",
    "print(\"Расшифрованный текст: \", ''.join(new_decoding))"
   ]
  },
  {
   "cell_type": "code",
   "execution_count": 43,
   "id": "e30e357d-cb2f-467c-bbb6-eaa324366fe9",
   "metadata": {},
   "outputs": [
    {
     "name": "stdout",
     "output_type": "stream",
     "text": [
      "Одинаковый ключ\n"
     ]
    }
   ],
   "source": [
    "if key == new_key:\n",
    "    print(\"Одинаковый ключ\")\n",
    "else:\n",
    "    print(\"Другой ключ\")"
   ]
  }
 ],
 "metadata": {
  "kernelspec": {
   "display_name": "Python 3 (ipykernel)",
   "language": "python",
   "name": "python3"
  },
  "language_info": {
   "codemirror_mode": {
    "name": "ipython",
    "version": 3
   },
   "file_extension": ".py",
   "mimetype": "text/x-python",
   "name": "python",
   "nbconvert_exporter": "python",
   "pygments_lexer": "ipython3",
   "version": "3.9.12"
  }
 },
 "nbformat": 4,
 "nbformat_minor": 5
}
