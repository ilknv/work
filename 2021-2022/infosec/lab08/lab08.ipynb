{
 "cells": [
  {
   "cell_type": "code",
   "execution_count": 2,
   "id": "fc33d000-5430-492d-a5f5-831ae6bdf2fe",
   "metadata": {},
   "outputs": [],
   "source": [
    "import random\n",
    "import string\n",
    "import numpy as np"
   ]
  },
  {
   "cell_type": "code",
   "execution_count": 3,
   "id": "481d0a58-c76e-4697-afb9-f6f2986f6c5f",
   "metadata": {},
   "outputs": [],
   "source": [
    "P1 = 'НаВашисходящийот1204'\n",
    "P2 = 'ВСеверныйфилиалБанка'"
   ]
  },
  {
   "cell_type": "code",
   "execution_count": 4,
   "id": "bbc91201-3c6c-4e9a-8f07-6d95ba043eb4",
   "metadata": {},
   "outputs": [],
   "source": [
    "def f1(n): #генерация ключа\n",
    "    k = []\n",
    "    for i in range(n):\n",
    "        k.append(random.choice(string.ascii_letters + string.digits))\n",
    "    return k"
   ]
  },
  {
   "cell_type": "code",
   "execution_count": 6,
   "id": "3fadb2c3-2a6d-4545-93ae-21213487df18",
   "metadata": {},
   "outputs": [
    {
     "data": {
      "text/plain": [
       "array(['y', 'h', 'H', '0', 'E', 'u', 'q', '3', 'a', 'h', '7', 'F', 'p',\n",
       "       'P', 'v', 'r', 'U', 'K', 't', 'E'], dtype='<U1')"
      ]
     },
     "execution_count": 6,
     "metadata": {},
     "output_type": "execute_result"
    }
   ],
   "source": [
    "key = f1(len(P1))\n",
    "np.array(key)"
   ]
  },
  {
   "cell_type": "code",
   "execution_count": 7,
   "id": "26be2480-e7ba-451a-b54b-b1764670085c",
   "metadata": {},
   "outputs": [],
   "source": [
    "def f2(t): #перевод в 16 строку\n",
    "    a = []\n",
    "    for i in t:\n",
    "        a.append(hex(ord(i))[2:])\n",
    "    return a"
   ]
  },
  {
   "cell_type": "code",
   "execution_count": 8,
   "id": "431c7794-25f7-4cfb-b037-6ae1e0a3921f",
   "metadata": {},
   "outputs": [
    {
     "data": {
      "text/plain": [
       "array(['79', '68', '48', '30', '45', '75', '71', '33', '61', '68', '37',\n",
       "       '46', '70', '50', '76', '72', '55', '4b', '74', '45'], dtype='<U2')"
      ]
     },
     "execution_count": 8,
     "metadata": {},
     "output_type": "execute_result"
    }
   ],
   "source": [
    "key16 = f2(key)\n",
    "np.array(key16)"
   ]
  },
  {
   "cell_type": "code",
   "execution_count": 9,
   "id": "ce919807-903b-4811-b701-a9427fed8a5b",
   "metadata": {},
   "outputs": [],
   "source": [
    "def f3(t,k): #XOR\n",
    "    a = []\n",
    "    for (i,j) in zip(t,k):\n",
    "        a.append(chr(i^j))\n",
    "    return a\n",
    "\n",
    "def for16(a): #превращаем символы в числа\n",
    "    f = []\n",
    "    for i in a:\n",
    "        f.append(ord(i))\n",
    "    return f"
   ]
  },
  {
   "cell_type": "code",
   "execution_count": 10,
   "id": "abaed44f-1779-4718-b75e-7ff5319194e8",
   "metadata": {},
   "outputs": [
    {
     "data": {
      "text/plain": [
       "array(['Ѥ', 'ј', 'њ', 'Ѐ', 'Ѝ', 'э', 'а', 'Ѷ', 'џ', 'ќ', 'Ѹ', 'Џ', 'ш',\n",
       "       'ѩ', 'ш', 'а', 'd', 'y', 'D', 'q'], dtype='<U1')"
      ]
     },
     "execution_count": 10,
     "metadata": {},
     "output_type": "execute_result"
    }
   ],
   "source": [
    "C1 = f3(for16(P1), for16(key))\n",
    "np.array(C1)"
   ]
  },
  {
   "cell_type": "code",
   "execution_count": 11,
   "id": "bb2243b3-fad0-43dd-a927-d30b5fdb5285",
   "metadata": {},
   "outputs": [
    {
     "data": {
      "text/plain": [
       "array(['ѫ', 'щ', 'ѽ', 'Ђ', 'Ѱ', 'е', 'ь', 'Ѹ', 'ј', 'Ь', 'Џ', 'ѽ', 'ш',\n",
       "       'Ѡ', 'э', 'ѣ', 'ѥ', 'Ѷ', 'ю', 'ѵ'], dtype='<U1')"
      ]
     },
     "execution_count": 11,
     "metadata": {},
     "output_type": "execute_result"
    }
   ],
   "source": [
    "C2 = f3(for16(P2), for16(key))\n",
    "np.array(C2)"
   ]
  },
  {
   "cell_type": "code",
   "execution_count": 13,
   "id": "f84532c1-38c3-4e57-9700-88fd2710b6ed",
   "metadata": {},
   "outputs": [
    {
     "name": "stdout",
     "output_type": "stream",
     "text": [
      "Открытый текст:\n",
      "P1 =  НаВашисходящийот1204 \n",
      "P2 =  ВСеверныйфилиалБанка\n",
      "Ключ:  yhH0Euq3ah7FpPvrUKtE\n",
      "Ключ в 16:  79 68 48 30 45 75 71 33 61 68 37 46 70 50 76 72 55 4b 74 45\n",
      "Шифр:\n",
      "C1 =  ѤјњЀЍэаѶџќѸЏшѩшаdyDq \n",
      "C2 =  ѫщѽЂѰеьѸјЬЏѽшѠэѣѥѶюѵ\n"
     ]
    }
   ],
   "source": [
    "print(\"Открытый текст:\\nP1 = \", P1, \"\\nP2 = \", P2)\n",
    "print(\"Ключ: \", ''.join(key))\n",
    "print(\"Ключ в 16: \", ' '.join(key16))\n",
    "print(\"Шифр:\\nC1 = \", ''.join(C1), \"\\nC2 = \", ''.join(C2))"
   ]
  },
  {
   "cell_type": "code",
   "execution_count": 14,
   "id": "dff32712-f2ae-461b-8770-7cebf7323942",
   "metadata": {},
   "outputs": [
    {
     "data": {
      "text/plain": [
       "array(['ѫ', 'щ', 'ѽ', 'Ђ', 'Ѱ', 'е', 'ь', 'Ѹ', 'ј', 'Ь', 'Џ', 'ѽ', 'ш',\n",
       "       'Ѡ', 'э', 'ѣ', 'ѥ', 'Ѷ', 'ю', 'ѵ'], dtype='<U1')"
      ]
     },
     "execution_count": 14,
     "metadata": {},
     "output_type": "execute_result"
    }
   ],
   "source": [
    "C = f3(for16(C1), for16(C2))\n",
    "np.array(C2)"
   ]
  },
  {
   "cell_type": "code",
   "execution_count": 15,
   "id": "73a8761e-5404-443d-b47e-1ba2990b4516",
   "metadata": {},
   "outputs": [
    {
     "data": {
      "text/plain": [
       "array(['Н', 'а', 'В', 'а', 'ш', 'и', 'с', 'х', 'о', 'д', 'я', 'щ', 'и',\n",
       "       'й', 'о', 'т', '1', '2', '0', '4'], dtype='<U1')"
      ]
     },
     "execution_count": 15,
     "metadata": {},
     "output_type": "execute_result"
    }
   ],
   "source": [
    "p_1 = f3(for16(C), for16(P2))\n",
    "np.array(p_1)"
   ]
  },
  {
   "cell_type": "code",
   "execution_count": 16,
   "id": "e48e7b97-2564-48a0-98a2-a8c817f9c8d8",
   "metadata": {},
   "outputs": [
    {
     "data": {
      "text/plain": [
       "array(['В', 'С', 'е', 'в', 'е', 'р', 'н', 'ы', 'й', 'ф', 'и', 'л', 'и',\n",
       "       'а', 'л', 'Б', 'а', 'н', 'к', 'а'], dtype='<U1')"
      ]
     },
     "execution_count": 16,
     "metadata": {},
     "output_type": "execute_result"
    }
   ],
   "source": [
    "p_2 = f3(for16(C), for16(P1))\n",
    "np.array(p_2)"
   ]
  },
  {
   "cell_type": "code",
   "execution_count": null,
   "id": "704bf235-3625-46b4-b3d3-9a0cf4cab8ee",
   "metadata": {},
   "outputs": [],
   "source": []
  },
  {
   "cell_type": "code",
   "execution_count": null,
   "id": "79e1fc79-46dc-4a22-ad91-f7e6ecb9f376",
   "metadata": {},
   "outputs": [],
   "source": []
  },
  {
   "cell_type": "code",
   "execution_count": 17,
   "id": "6f7f0533-8aa6-47db-bf4f-d35899670e49",
   "metadata": {},
   "outputs": [
    {
     "name": "stdout",
     "output_type": "stream",
     "text": [
      "C1 XOR C2:  \u000f\u0011'\u0002}x|\u000e\u0007pwr\u0000\t\u0005SЁЏЊЄ\n",
      "P1 = C1 XOR C2 XOR P2:  НаВашисходящийот1204\n",
      "P2 = C1 XOR C2 XOR P1:  ВСеверныйфилиалБанка\n"
     ]
    }
   ],
   "source": [
    "print(\"C1 XOR C2: \", ''.join(C))\n",
    "print(\"P1 = C1 XOR C2 XOR P2: \", ''.join(p_1))\n",
    "print(\"P2 = C1 XOR C2 XOR P1: \", ''.join(p_2))"
   ]
  }
 ],
 "metadata": {
  "kernelspec": {
   "display_name": "Python 3 (ipykernel)",
   "language": "python",
   "name": "python3"
  },
  "language_info": {
   "codemirror_mode": {
    "name": "ipython",
    "version": 3
   },
   "file_extension": ".py",
   "mimetype": "text/x-python",
   "name": "python",
   "nbconvert_exporter": "python",
   "pygments_lexer": "ipython3",
   "version": "3.9.12"
  }
 },
 "nbformat": 4,
 "nbformat_minor": 5
}
